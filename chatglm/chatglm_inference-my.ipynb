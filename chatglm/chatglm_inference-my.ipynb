{
 "cells": [
  {
   "cell_type": "markdown",
   "id": "fc5bde60-1899-461d-8083-3ee04ac7c099",
   "metadata": {},
   "source": [
    "# 模型推理 - 使用 QLoRA 微调后的 ChatGLM-6B"
   ]
  },
  {
   "cell_type": "code",
   "execution_count": 4,
   "id": "3292b88c-91f0-48d2-91a5-06b0830c7e70",
   "metadata": {},
   "outputs": [],
   "source": [
    "import torch\n",
    "from transformers import AutoModel, AutoTokenizer, BitsAndBytesConfig\n",
    "\n",
    "# 模型ID或本地路径\n",
    "model_name_or_path = 'THUDM/chatglm3-6b'"
   ]
  },
  {
   "cell_type": "code",
   "execution_count": 5,
   "id": "9f81454c-24b2-4072-ab05-b25f9b120ae6",
   "metadata": {},
   "outputs": [
    {
     "data": {
      "application/vnd.jupyter.widget-view+json": {
       "model_id": "16fd7df7477749b7bdca50a4ce47a6f2",
       "version_major": 2,
       "version_minor": 0
      },
      "text/plain": [
       "Loading checkpoint shards:   0%|          | 0/7 [00:00<?, ?it/s]"
      ]
     },
     "metadata": {},
     "output_type": "display_data"
    }
   ],
   "source": [
    "_compute_dtype_map = {\n",
    "    'fp32': torch.float32,\n",
    "    'fp16': torch.float16,\n",
    "    'bf16': torch.bfloat16\n",
    "}\n",
    "\n",
    "# QLoRA 量化配置\n",
    "q_config = BitsAndBytesConfig(load_in_4bit=True,\n",
    "                              bnb_4bit_quant_type='nf4',\n",
    "                              bnb_4bit_use_double_quant=True,\n",
    "                              bnb_4bit_compute_dtype=_compute_dtype_map['bf16'])\n",
    "\n",
    "# 加载量化后模型(与微调的 revision 保持一致）\n",
    "base_model = AutoModel.from_pretrained(model_name_or_path,\n",
    "                                      quantization_config=q_config,\n",
    "                                      device_map='auto',\n",
    "                                      trust_remote_code=True,\n",
    "                                      revision='b098244')"
   ]
  },
  {
   "cell_type": "code",
   "execution_count": 6,
   "id": "d488846f-41bb-4fe6-9f09-0f392f3b39e6",
   "metadata": {},
   "outputs": [
    {
     "data": {
      "text/plain": [
       "ChatGLMForConditionalGeneration(\n",
       "  (transformer): ChatGLMModel(\n",
       "    (embedding): Embedding(\n",
       "      (word_embeddings): Embedding(65024, 4096)\n",
       "    )\n",
       "    (rotary_pos_emb): RotaryEmbedding()\n",
       "    (encoder): GLMTransformer(\n",
       "      (layers): ModuleList(\n",
       "        (0-27): 28 x GLMBlock(\n",
       "          (input_layernorm): RMSNorm()\n",
       "          (self_attention): SelfAttention(\n",
       "            (query_key_value): Linear4bit(in_features=4096, out_features=4608, bias=True)\n",
       "            (core_attention): CoreAttention(\n",
       "              (attention_dropout): Dropout(p=0.0, inplace=False)\n",
       "            )\n",
       "            (dense): Linear4bit(in_features=4096, out_features=4096, bias=False)\n",
       "          )\n",
       "          (post_attention_layernorm): RMSNorm()\n",
       "          (mlp): MLP(\n",
       "            (dense_h_to_4h): Linear4bit(in_features=4096, out_features=27392, bias=False)\n",
       "            (dense_4h_to_h): Linear4bit(in_features=13696, out_features=4096, bias=False)\n",
       "          )\n",
       "        )\n",
       "      )\n",
       "      (final_layernorm): RMSNorm()\n",
       "    )\n",
       "    (output_layer): Linear(in_features=4096, out_features=65024, bias=False)\n",
       "  )\n",
       ")"
      ]
     },
     "execution_count": 6,
     "metadata": {},
     "output_type": "execute_result"
    }
   ],
   "source": [
    "base_model.requires_grad_(False)\n",
    "base_model.eval()"
   ]
  },
  {
   "cell_type": "code",
   "execution_count": 7,
   "id": "7e4270e2-c827-450e-bf27-7cb43a97f8f7",
   "metadata": {},
   "outputs": [],
   "source": [
    "tokenizer = AutoTokenizer.from_pretrained(model_name_or_path,\n",
    "                                          trust_remote_code=True,\n",
    "                                          revision='b098244')"
   ]
  },
  {
   "cell_type": "markdown",
   "id": "63408b60-876e-4eda-b501-90f842cca002",
   "metadata": {},
   "source": [
    "## 使用原始 ChatGLM3-6B 模型"
   ]
  },
  {
   "cell_type": "code",
   "execution_count": 8,
   "id": "6d30c931-c063-49b1-995b-6ab0eeb41302",
   "metadata": {},
   "outputs": [],
   "source": [
    "input_text = \"如何借用电脑？\""
   ]
  },
  {
   "cell_type": "code",
   "execution_count": 9,
   "id": "566ed80e-828b-4105-b6e6-49de8905c991",
   "metadata": {},
   "outputs": [],
   "source": [
    "response, history = base_model.chat(tokenizer, query=input_text)"
   ]
  },
  {
   "cell_type": "code",
   "execution_count": 10,
   "id": "6cee217e-f276-4c2f-94e7-69afb6d541a6",
   "metadata": {},
   "outputs": [
    {
     "name": "stdout",
     "output_type": "stream",
     "text": [
      "要借用电脑,需要先了解电脑的使用权限。如果拥有电脑的访问权限,可以按照以下步骤使用电脑:\n",
      "\n",
      "1. 开机:按下电脑主机箱上的电源按钮,等待电脑启动。\n",
      "\n",
      "2. 登录系统:如果使用的是Windows系统,按下“Windows键+R”组合键打开“运行”对话框,在对话框中输入“net user”并按下回车键,输入用户名和密码,点击“确定”按钮。\n",
      "\n",
      "3. 使用电脑:当登录系统后,就可以开始使用电脑了。如果需要打开某个应用程序,可以在“开始”菜单中搜索该应用程序并点击打开。\n",
      "\n",
      "如果使用的是Mac系统,登录系统的步骤略有不同。请参考Mac系统的使用手册或向导,以获取更详细的帮助。\n"
     ]
    }
   ],
   "source": [
    "print(response)"
   ]
  },
  {
   "cell_type": "code",
   "execution_count": null,
   "id": "342b3659-d644-4232-8af1-f092e733bf40",
   "metadata": {},
   "outputs": [],
   "source": []
  },
  {
   "cell_type": "markdown",
   "id": "6d23e720-dee1-4b43-a298-0cbe1d8ad11d",
   "metadata": {},
   "source": [
    "## 使用微调后的 ChatGLM3-6B"
   ]
  },
  {
   "cell_type": "markdown",
   "id": "6bcfc5a2-41ed-405c-a31c-dca4fbb67425",
   "metadata": {},
   "source": [
    "### 加载 QLoRA Adapter(Epoch=3, automade-dataset(fixed)) - 请根据训练时间戳修改 timestamp "
   ]
  },
  {
   "cell_type": "code",
   "execution_count": 13,
   "id": "9c767c67-42aa-459c-a096-e226226c359b",
   "metadata": {},
   "outputs": [],
   "source": [
    "from peft import PeftModel, PeftConfig\n",
    "\n",
    "epochs = 10\n",
    "timestamp = \"20240319_111823\"\n",
    "# timestamp = \"20240319_103822\"\n",
    "\n",
    "peft_model_path = f\"models/{model_name_or_path}-epoch{epochs}-{timestamp}\"\n",
    "\n",
    "config = PeftConfig.from_pretrained(peft_model_path)\n",
    "qlora_model = PeftModel.from_pretrained(base_model, peft_model_path)\n",
    "training_tag=f\"ChatGLM3-6B(Epoch=3, automade-dataset(fixed))-{timestamp}\""
   ]
  },
  {
   "cell_type": "code",
   "execution_count": 14,
   "id": "24a5d22b-2c94-4dcf-8135-18d78f98755f",
   "metadata": {},
   "outputs": [],
   "source": [
    "def compare_chatglm_results(query, base_model, qlora_model, training_tag):\n",
    "    base_response, base_history = base_model.chat(tokenizer, query)\n",
    "\n",
    "    inputs = tokenizer(query, return_tensors=\"pt\").to(0)\n",
    "    ft_out = qlora_model.generate(**inputs, max_new_tokens=512)\n",
    "    ft_response = tokenizer.decode(ft_out[0], skip_special_tokens=True)\n",
    "    \n",
    "    print(f\"问题：{query}\\n\\n原始输出：\\n{base_response}\\n\\n\\n微调后（{training_tag}）：\\n{ft_response}\")\n",
    "    return base_response, ft_response"
   ]
  },
  {
   "cell_type": "markdown",
   "id": "062cd62e-69f9-4605-8c83-e468f71ef3d3",
   "metadata": {},
   "source": [
    "### 微调前后效果对比"
   ]
  },
  {
   "cell_type": "code",
   "execution_count": 18,
   "id": "7db16cd5-0bb5-44ab-b861-d9ca6a4970c2",
   "metadata": {},
   "outputs": [
    {
     "name": "stdout",
     "output_type": "stream",
     "text": [
      "问题：借用机申请流程是什么？\n",
      "\n",
      "原始输出：\n",
      "{'name': '请求机：请向贵公司IT部门开放申请，并提交申请，等待响应。如：申请一台新的笔记本电脑，需提交申请、等待响应、IT审批、领机。', 'content': '申请步骤：1.登录内部员工门户（若非员工可输入：http://company.com/selfservice）2.选择【IT资源申请】3.选择【硬件设备申请】4.填写申请表格，包括：申请型号、数量、用途、申请人、部门等。5.提交申请，等待响应。'}\n",
      "\n",
      "\n",
      "微调后（ChatGLM3-6B(Epoch=3, automade-dataset(fixed))-20240319_111823）：\n",
      "[gMASK]sop 借用机申请流程是什么？ 申请借用机：请在办公门户首页-IT专区-自助服务中起草 《IT资产管理审批单》，计算机类型选择借用机。若需出国，请附出境出差审批单截图。S01属地：1.申请笔记本需要先提交《一般报告审批单（智慧终端）》，说明申请笔记本的理由，签核至本部门中心长和SBU总经理，签核完成后，提交《IT资产管理审批单》并将上述签核记录作为附件，提交申请；2.申请台式机直接提交提交《IT资产管理审批单》\n"
     ]
    }
   ],
   "source": [
    "base_response, ft_response = compare_chatglm_results(\"借用机申请流程是什么？\", base_model, qlora_model, training_tag)"
   ]
  },
  {
   "cell_type": "code",
   "execution_count": 16,
   "id": "7aa074bd-c819-4533-a10f-f3184dc9549a",
   "metadata": {},
   "outputs": [
    {
     "name": "stdout",
     "output_type": "stream",
     "text": [
      "问题：怎么设置远程桌面\n",
      "\n",
      "原始输出：\n",
      "远程桌面允许您在计算机上远程访问另一个计算机。如果您需要使用远程桌面连接另一个计算机，请按照以下步骤操作：1. 打开电脑，点击“开始”菜单，选择“控制面板”。2. 在控制面板中，找到并点击“用户账户控制”选项。3. 接下来，在“用户账户控制”页面中，点击“管理用户”。4. 在此页面中，可以查看所有连接此计算机的用户及其密码。5. 如果您有其他用户需要连接此计算机，请为他们创建一个账户。6. 接下来，在“用户账户控制”页面中，点击“登录”。7. 在此页面中，输入连接此计算机的用户的用户名和密码，然后点击“确定”。8. 最后，在弹出的窗口中，点击“允许远程连接”。9. 现在，其他用户就可以通过远程密码连接此计算机了。\n",
      "\n",
      "\n",
      "微调后（ChatGLM3-6B(Epoch=3, automade-dataset(fixed))-20240319_111823）：\n",
      "[gMASK]sop 怎么设置远程桌面 开启计算机远程方法：Windows7:1、在桌面或开始菜单栏中找到;计算机;右键-属性2、在弹出窗口点击左侧远程设置3、远程协助一栏勾选;允许远程协助连接这台计算机;，远程桌面一栏选择;允许运行任意版本远程桌面计算机连接;，点击确定即可Windows10:1、在桌面或打开任意文件夹左侧的;快速访问;中找到;此电脑;右键-属性2、在弹出窗口点击左侧远程设置3、在远程协助一栏勾选;允许远程协助连接这台计算机;远程桌面一栏选择;允许远程连接到此电脑;同时取消勾选下方的;仅允许运行使用网络级别身份验证的远程桌面的计算机连接;点击确定即可详细图文操作手册：http://abc.com&#34;\n"
     ]
    }
   ],
   "source": [
    "base_response, ft_response = compare_chatglm_results(\"怎么设置远程桌面\", base_model, qlora_model, training_tag)"
   ]
  },
  {
   "cell_type": "code",
   "execution_count": 19,
   "id": "d5a31554-40f1-4e6e-8240-f207c4a61b42",
   "metadata": {},
   "outputs": [
    {
     "name": "stdout",
     "output_type": "stream",
     "text": [
      "问题：电脑开机报错\n",
      "\n",
      "原始输出：\n",
      "电脑开机报错，可能是硬件故障，建议进行以下操作：\n",
      "\n",
      "1. 关闭电脑，然后将电源线从主板上拔掉，再将电源线重新插入主板，如果能够正常开机，说明问题在于电源线。\n",
      "\n",
      "2. 如果上述操作不能解决问题，将主板上的电源线全部拔掉，再将电源线重新插入主板，如果能够正常开机，说明问题在于电源线。\n",
      "\n",
      "3. 如果还是不能正常开机，打开电脑，在主板上的找到BIOS设置键，进入BIOS设置后，找到 boot order 设置，将其设置为默认启动设备之后，保存修改，尝试重新启动电脑。\n",
      "\n",
      "4. 仍无法解决，检查主板上的CPU风扇是否正常工作，如果风扇不转，请联系购买新机。\n",
      "\n",
      "\n",
      "微调后（ChatGLM3-6B(Epoch=3, automade-dataset(fixed))-20240319_111823）：\n",
      "[gMASK]sop 电脑开机报错 开机自检后提示“01: BIOS Boot Order:聚变发电厂www.fes.com.cn/www.fes.com.cn/fes_content/html/eng/homepage/index.html聚变发电厂www.fes.com.cn/www.fes.com.cn/fes_content/html/eng/homepage/index.htmlfes_content_html_eng_homepage_index.html聚变发电厂www.fes.com.cn/www.fes.com.cn/fes_content/html/eng/homepage/index.html\"；如果开机自检正常，提示“01: BIOS Boot Order:聚变发电厂www.fes.com.cn/www.fes.com.cn/fes_content/html/eng/homepage/index.html聚变发电厂www.fes.com.cn/www.fes.com.cn/fes_content/html/eng/homepage/index.html\"；如果开机自检正常，提示“01: BIOS Boot Order:聚变发电厂www.fes.com.cn/www.fes.com.cn/fes_content/html/eng/homepage/index.html聚变发电厂www.fes.com.cn/www.fes.com.cn/fes_content/html/eng/homepage/index.html\"；如果开机自检正常，提示“01: BIOS Boot Order:聚变发电厂www.fes.com.cn/www.fes.com.cn/fes_content/html/eng/homepage/index.html聚变发电厂www.fes.com.cn/www.fes.com.cn/fes_content/html/eng/homepage/index.html\"；如果开机自检正常，提示“01: BIOS Boot Order:聚变发电厂www.fes.com.cn/www.fes.com.cn/fes_content/html/eng/homepage/index.html聚变发电厂www.fes.com.cn/www.fes.com.cn/fes_content/html/eng/homepage/index.html\"；如果\n"
     ]
    }
   ],
   "source": [
    "base_response, ft_response = compare_chatglm_results(\"电脑开机报错\", base_model, qlora_model, training_tag)"
   ]
  },
  {
   "cell_type": "markdown",
   "id": "d66a6d4f-5dc2-4d85-bcd3-d94c39b68e06",
   "metadata": {},
   "source": [
    "过拟合他抽了"
   ]
  },
  {
   "cell_type": "code",
   "execution_count": null,
   "id": "e5c3fd1c-6dcf-475d-afa9-b8ea1178edc9",
   "metadata": {},
   "outputs": [],
   "source": []
  }
 ],
 "metadata": {
  "kernelspec": {
   "display_name": "Python 3 (ipykernel)",
   "language": "python",
   "name": "python3"
  },
  "language_info": {
   "codemirror_mode": {
    "name": "ipython",
    "version": 3
   },
   "file_extension": ".py",
   "mimetype": "text/x-python",
   "name": "python",
   "nbconvert_exporter": "python",
   "pygments_lexer": "ipython3",
   "version": "3.11.5"
  }
 },
 "nbformat": 4,
 "nbformat_minor": 5
}
